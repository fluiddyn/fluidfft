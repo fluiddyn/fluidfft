{
 "cells": [
  {
   "cell_type": "markdown",
   "metadata": {},
   "source": [
    "# Tutorial FFT 2D parallel (MPI): Domain decomposition\n",
    "We have seen that FluidFFT provides a unified framework for different implementations of parallelized FFT 2D libraries using FFTW (with MPI).\n",
    "\n",
    "In this tutorial, we will look into how these libraries perform domain decomposition, and thereby try to balance the load evenly. Understanding how this is done is important to plan the discretization (i.e. shape of the arrays).\n",
    "\n",
    "Always remember:\n",
    "\n",
    "> \"FFTW is best at handling sizes of the form $2^a \\times 3^b \\times 5^c \\times 7^d \\times 11^e \\times 13^f$, where $e+f$ is either 0 or 1, and the other exponents are arbitrary. Other sizes are computed by means of a slow, general-purpose routine (which nevertheless retains $O(n \\log n)$ performance, even for prime sizes). (It is possible to customize FFTW for different array sizes. See Section [Installation and Customization](http://www.fftw.org/fftw2_doc/fftw_6.html#SEC66), for more information.) Transforms whose sizes are powers of 2 are especially fast.\"\n",
    ">\n",
    "> Source: http://www.fftw.org/fftw2_doc/fftw_3.html\n",
    "\n",
    "Just like, before we start an parallelized IPython/Jupyter session with `ipcluster start -n 4 --engines=MPIEngineSetLauncher`."
   ]
  },
  {
   "cell_type": "code",
   "execution_count": 1,
   "metadata": {},
   "outputs": [],
   "source": [
    "import ipyparallel as ipp\n",
    "rc = ipp.Client()\n",
    "dview = rc[:]"
   ]
  },
  {
   "cell_type": "markdown",
   "metadata": {},
   "source": [
    "We start by importing all the functions that we need"
   ]
  },
  {
   "cell_type": "code",
   "execution_count": 2,
   "metadata": {},
   "outputs": [],
   "source": [
    "%%px\n",
    "from fluiddyn.util.info import _print_dict\n",
    "from fluidfft.fft2d import get_classes_mpi\n",
    "from fluiddyn.util.mpi import rank, print_sorted, printby0"
   ]
  },
  {
   "cell_type": "code",
   "execution_count": 3,
   "metadata": {},
   "outputs": [],
   "source": [
    "%%px\n",
    "dict_classes = get_classes_mpi()"
   ]
  },
  {
   "cell_type": "markdown",
   "metadata": {},
   "source": [
    "The function `get_classes_mpi` creates a dictionary of all available FFT classes."
   ]
  },
  {
   "cell_type": "code",
   "execution_count": 4,
   "metadata": {},
   "outputs": [
    {
     "name": "stdout",
     "output_type": "stream",
     "text": [
      "  - fft2d.mpi_with_fftwmpi2d        : <class 'fluidfft.fft2d.mpi_with_fftwmpi2d.FFT2DMPIWithFFTWMPI2D'>\n",
      "  - fft2d.mpi_with_fftw1d           : <class 'fluidfft.fft2d.mpi_with_fftw1d.FFT2DMPIWithFFTW1D'>\n"
     ]
    }
   ],
   "source": [
    "%%px  --targets 1\n",
    "_print_dict(dict_classes)"
   ]
  },
  {
   "cell_type": "markdown",
   "metadata": {},
   "source": [
    "We now chose a small shape for the purpose of this tutorial, compatible with FFTW requirements: say $12 \\times 8$, and instantiate FFT operators (or objects) of the above classes. Let us compose a nifty function which takes an FFT class as the argument, instantiates it with the shape and prints the information we seek."
   ]
  },
  {
   "cell_type": "code",
   "execution_count": 5,
   "metadata": {},
   "outputs": [],
   "source": [
    "%%px\n",
    "def fft_info(cls):\n",
    "    \"\"\"Instanitate and display array shapes\"\"\"\n",
    "    opfft = cls(12, 8)\n",
    "    print_sorted(\n",
    "        'Global physical shape:'.rjust(35), opfft.get_shapeX_seq(),\n",
    "        '\\n' + 'Local physical shape :'.rjust(35),  opfft.get_shapeX_loc(),\n",
    "        '\\n' + 'Global FFT shape     :'.rjust(35), opfft.get_shapeK_seq(),\n",
    "        '\\n' + 'Local FFT shape      :'.rjust(35),  opfft.get_shapeK_loc()\n",
    "    )\n",
    "    \n",
    "    del opfft"
   ]
  },
  {
   "cell_type": "markdown",
   "metadata": {},
   "source": [
    "## fft2d.mpi_with_fftw1d"
   ]
  },
  {
   "cell_type": "code",
   "execution_count": 6,
   "metadata": {},
   "outputs": [
    {
     "name": "stdout",
     "output_type": "stream",
     "text": [
      "[stdout:0] \n",
      "rank 0:\n",
      "             Global physical shape: (12, 8) \n",
      "             Local physical shape : (3, 8) \n",
      "             Global FFT shape     : (4, 12) \n",
      "             Local FFT shape      : (1, 12)\n",
      "[stdout:1] \n",
      "rank 1:\n",
      "             Global physical shape: (12, 8) \n",
      "             Local physical shape : (3, 8) \n",
      "             Global FFT shape     : (4, 12) \n",
      "             Local FFT shape      : (1, 12)\n",
      "[stdout:2] \n",
      "rank 2:\n",
      "             Global physical shape: (12, 8) \n",
      "             Local physical shape : (3, 8) \n",
      "             Global FFT shape     : (4, 12) \n",
      "             Local FFT shape      : (1, 12)\n",
      "[stdout:3] \n",
      "rank 3:\n",
      "             Global physical shape: (12, 8) \n",
      "             Local physical shape : (3, 8) \n",
      "             Global FFT shape     : (4, 12) \n",
      "             Local FFT shape      : (1, 12)\n"
     ]
    }
   ],
   "source": [
    "%%px\n",
    "fft_info(dict_classes['fft2d.mpi_with_fftw1d'])"
   ]
  },
  {
   "cell_type": "markdown",
   "metadata": {},
   "source": [
    "## fft2d.mpi_with_fftwmpi2d"
   ]
  },
  {
   "cell_type": "code",
   "execution_count": 7,
   "metadata": {},
   "outputs": [
    {
     "name": "stdout",
     "output_type": "stream",
     "text": [
      "[stdout:0] \n",
      "rank 0:\n",
      "             Global physical shape: (12, 8) \n",
      "             Local physical shape : (3, 8) \n",
      "             Global FFT shape     : (5, 12) \n",
      "             Local FFT shape      : (2, 12)\n",
      "[stdout:1] \n",
      "rank 1:\n",
      "             Global physical shape: (12, 8) \n",
      "             Local physical shape : (3, 8) \n",
      "             Global FFT shape     : (5, 12) \n",
      "             Local FFT shape      : (2, 12)\n",
      "[stdout:2] \n",
      "rank 2:\n",
      "             Global physical shape: (12, 8) \n",
      "             Local physical shape : (3, 8) \n",
      "             Global FFT shape     : (5, 12) \n",
      "             Local FFT shape      : (1, 12)\n",
      "[stdout:3] \n",
      "rank 3:\n",
      "             Global physical shape: (12, 8) \n",
      "             Local physical shape : (3, 8) \n",
      "             Global FFT shape     : (5, 12) \n",
      "             Local FFT shape      : (0, 12)\n"
     ]
    }
   ],
   "source": [
    "%%px\n",
    "fft_info(dict_classes['fft2d.mpi_with_fftwmpi2d'])"
   ]
  },
  {
   "cell_type": "markdown",
   "metadata": {},
   "source": [
    "## Summary\n",
    "We have only looked at the default options of the FFT classes. It is possible to transpose and customize array ordering. Different approaches are adopted by different FFT libraries both in terms of array ordering and and distributing processes.\n",
    "\n",
    "For a physical array ordered like $(n_0,\\ n_1)$ and with $p$ MPI processes:"
   ]
  },
  {
   "cell_type": "raw",
   "metadata": {
    "slideshow": {
     "slide_type": "-"
    }
   },
   "source": [
    ".. list-table::\n",
    "   :widths: auto\n",
    "   :header-rows: 1\n",
    "   \n",
    "   * - Method\n",
    "     - FFT array order\n",
    "     - Physical array process grid\n",
    "     - FFT array process grid\n",
    "   * - ``fft2d.mpi_with_fftw1d``\n",
    "     - :math:`(1, 0)`\n",
    "     - :math:`(p, 1)`\n",
    "     - :math:`(p, 1)`\n",
    "   * - ``fft2d.mpi_with_fftwmpi2d``\n",
    "     - :math:`(1, 0)`\n",
    "     - :math:`(p, 1)`\n",
    "     - :math:`(p, 1)`"
   ]
  },
  {
   "cell_type": "markdown",
   "metadata": {},
   "source": [
    "It is also interesting to note that FFTW takes advantage of the fact that FFT arrays of real physical arrays are hermitian. Therefore only stores half the size of the array. Due to this $k_1$ is exactly $\\frac{n_1}{2}$ with `fft2d.mpi_with_fftw1d` and is $(\\frac{n_1}{2} + 1)$ with `fft2d.mpi_with_fftwmpi2d`.\n",
    "\n",
    "We observe that FFTW methods distributes processes only over one index, i.e. splits the global array into **slabs** or **pencils** (equivalent in 2D, but different in 3D, as we will see later)."
   ]
  }
 ],
 "metadata": {
  "kernelspec": {
   "display_name": "Python 3",
   "language": "python",
   "name": "python3"
  },
  "language_info": {
   "codemirror_mode": {
    "name": "ipython",
    "version": 3
   },
   "file_extension": ".py",
   "mimetype": "text/x-python",
   "name": "python",
   "nbconvert_exporter": "python",
   "pygments_lexer": "ipython3",
   "version": "3.7.2"
  }
 },
 "nbformat": 4,
 "nbformat_minor": 2
}
