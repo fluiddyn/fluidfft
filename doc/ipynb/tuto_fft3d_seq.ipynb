{
 "cells": [
  {
   "cell_type": "markdown",
   "metadata": {},
   "source": [
    "# Tutorial FFT 3D sequential\n",
    "\n",
    "In this tutorial, we present how to use fluidfft to perform 3D fft in sequential."
   ]
  },
  {
   "cell_type": "code",
   "execution_count": 1,
   "metadata": {
    "collapsed": true
   },
   "outputs": [],
   "source": [
    "import numpy as np\n",
    "from fluidfft.fft3d import methods_seq\n",
    "from fluidfft import import_fft_class"
   ]
  },
  {
   "cell_type": "code",
   "execution_count": 2,
   "metadata": {},
   "outputs": [
    {
     "name": "stdout",
     "output_type": "stream",
     "text": [
      "['fft3d.with_fftw3d']\n"
     ]
    }
   ],
   "source": [
    "print(methods_seq)"
   ]
  },
  {
   "cell_type": "markdown",
   "metadata": {},
   "source": [
    "We import a class and instantiate it:"
   ]
  },
  {
   "cell_type": "code",
   "execution_count": 3,
   "metadata": {
    "collapsed": true
   },
   "outputs": [],
   "source": [
    "cls = import_fft_class('fft3d.with_fftw3d')"
   ]
  },
  {
   "cell_type": "code",
   "execution_count": 4,
   "metadata": {
    "collapsed": true
   },
   "outputs": [],
   "source": [
    "o = cls(4, 8, 12)"
   ]
  },
  {
   "cell_type": "markdown",
   "metadata": {},
   "source": [
    "Let's have a look at the attribute of this objects."
   ]
  },
  {
   "cell_type": "code",
   "execution_count": 5,
   "metadata": {},
   "outputs": [
    {
     "name": "stdout",
     "output_type": "stream",
     "text": [
      "build_invariant_arrayK_from_2d_indices12X\n",
      "build_invariant_arrayX_from_2d_indices12X\n",
      "comm\n",
      "fft\n",
      "fft_as_arg\n",
      "gather_Xspace\n",
      "get_dimX_K\n",
      "get_k_adim_loc\n",
      "get_local_size_X\n",
      "get_seq_indices_first_K\n",
      "get_shapeK_loc\n",
      "get_shapeK_seq\n",
      "get_shapeX_loc\n",
      "get_shapeX_seq\n",
      "get_short_name\n",
      "ifft\n",
      "ifft_as_arg\n",
      "nb_proc\n",
      "rank\n",
      "run_benchs\n",
      "run_tests\n",
      "scatter_Xspace\n",
      "sum_wavenumbers\n"
     ]
    }
   ],
   "source": [
    "print('\\n'.join([name for name in dir(o) if not name.startswith('__')]))"
   ]
  },
  {
   "cell_type": "markdown",
   "metadata": {},
   "source": [
    "Let's run a test and benchmark the fft and ifft functions directly from C++."
   ]
  },
  {
   "cell_type": "code",
   "execution_count": 6,
   "metadata": {},
   "outputs": [
    {
     "name": "stdout",
     "output_type": "stream",
     "text": [
      "1\n"
     ]
    }
   ],
   "source": [
    "print(o.run_tests())"
   ]
  },
  {
   "cell_type": "code",
   "execution_count": 7,
   "metadata": {},
   "outputs": [
    {
     "name": "stdout",
     "output_type": "stream",
     "text": [
      "t_fft = 1.15e-05 s; t_ifft = 5.899999999999999e-06 s\n"
     ]
    }
   ],
   "source": [
    "t1, t2 = o.run_benchs()\n",
    "print('t_fft = {} s; t_ifft = {} s'.format(t1, t2))"
   ]
  },
  {
   "cell_type": "markdown",
   "metadata": {},
   "source": [
    "Let's understand how the data is stored:"
   ]
  },
  {
   "cell_type": "code",
   "execution_count": 8,
   "metadata": {},
   "outputs": [
    {
     "name": "stdout",
     "output_type": "stream",
     "text": [
      "(0, 1, 2)\n"
     ]
    }
   ],
   "source": [
    "print(o.get_dimX_K())"
   ]
  },
  {
   "cell_type": "markdown",
   "metadata": {},
   "source": [
    "which means that for this class, in Fourier space, the data is not transposed...\n",
    "\n",
    "Now we can get the non dimensional wavenumber in the first and second dimensions:"
   ]
  },
  {
   "cell_type": "code",
   "execution_count": 9,
   "metadata": {},
   "outputs": [
    {
     "name": "stdout",
     "output_type": "stream",
     "text": [
      "k0: [ 0  1  2 -1]\n",
      "k1: [ 0  1  2  3  4 -3 -2 -1]\n",
      "k2: [0 1 2 3 4 5 6]\n"
     ]
    }
   ],
   "source": [
    "k0, k1, k2 = o.get_k_adim_loc()\n",
    "print('k0:', k0)\n",
    "print('k1:', k1)\n",
    "print('k2:', k2)"
   ]
  },
  {
   "cell_type": "code",
   "execution_count": 10,
   "metadata": {},
   "outputs": [
    {
     "name": "stdout",
     "output_type": "stream",
     "text": [
      "(0, 0)\n"
     ]
    }
   ],
   "source": [
    "print(o.get_seq_indices_first_K())"
   ]
  },
  {
   "cell_type": "markdown",
   "metadata": {},
   "source": [
    "and check that the shapes of the array in one process are the same than in sequential (we are in sequential, there is only one process):"
   ]
  },
  {
   "cell_type": "code",
   "execution_count": 11,
   "metadata": {
    "collapsed": true
   },
   "outputs": [],
   "source": [
    "assert o.get_shapeX_loc() == o.get_shapeX_seq()\n",
    "assert o.get_shapeK_loc() == o.get_shapeK_seq()"
   ]
  },
  {
   "cell_type": "markdown",
   "metadata": {},
   "source": [
    "Now, let's compute fast Fourier transforms. We first initialize arrays:"
   ]
  },
  {
   "cell_type": "code",
   "execution_count": 12,
   "metadata": {
    "collapsed": true
   },
   "outputs": [],
   "source": [
    "a = np.ones(o.get_shapeX_loc())\n",
    "a_fft = np.empty(o.get_shapeK_loc(), dtype=np.complex128)"
   ]
  },
  {
   "cell_type": "markdown",
   "metadata": {},
   "source": [
    "If we do not have the array where to put the result we can do:"
   ]
  },
  {
   "cell_type": "code",
   "execution_count": 13,
   "metadata": {
    "collapsed": true
   },
   "outputs": [],
   "source": [
    "a_fft = o.fft(a)"
   ]
  },
  {
   "cell_type": "markdown",
   "metadata": {},
   "source": [
    "If we already have the array where to put the result we can do:"
   ]
  },
  {
   "cell_type": "code",
   "execution_count": 14,
   "metadata": {
    "collapsed": true
   },
   "outputs": [],
   "source": [
    "o.fft_as_arg(a, a_fft)"
   ]
  },
  {
   "cell_type": "markdown",
   "metadata": {},
   "source": [
    "And finally for the inverse Fourier transform:"
   ]
  },
  {
   "cell_type": "code",
   "execution_count": 15,
   "metadata": {
    "collapsed": true
   },
   "outputs": [],
   "source": [
    "a = o.ifft(a_fft)"
   ]
  },
  {
   "cell_type": "code",
   "execution_count": 16,
   "metadata": {
    "collapsed": true
   },
   "outputs": [],
   "source": [
    "o.ifft_as_arg(a_fft, a)"
   ]
  }
 ],
 "metadata": {
  "kernelspec": {
   "display_name": "Python 3",
   "language": "python",
   "name": "python3"
  },
  "language_info": {
   "codemirror_mode": {
    "name": "ipython",
    "version": 3
   },
   "file_extension": ".py",
   "mimetype": "text/x-python",
   "name": "python",
   "nbconvert_exporter": "python",
   "pygments_lexer": "ipython3",
   "version": "3.6.2"
  }
 },
 "nbformat": 4,
 "nbformat_minor": 2
}
